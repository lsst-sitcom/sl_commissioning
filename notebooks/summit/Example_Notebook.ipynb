{
 "cells": [
  {
   "cell_type": "markdown",
   "id": "6f4102e7",
   "metadata": {},
   "source": [
    "# Personal Notebook Example"
   ]
  },
  {
   "cell_type": "markdown",
   "id": "36659fb2",
   "metadata": {},
   "source": [
    "This is an example of a notebook that employs the structure of the Rubin personal notebook repository. <br>\n",
    "In this case we import a local function, stored in this repo, that is used to support this notebook. <br>\n"
   ]
  },
  {
   "cell_type": "markdown",
   "id": "44efdef5-1bd8-4796-abda-17b2131d78bf",
   "metadata": {},
   "source": [
    "### Declare the packages\n",
    "This is done by adding the following to the ~/notebooks/.user_setups file:\n",
    "```\n",
    "setup -j sl_commissioning -r ~/<path_to>/sl_commissioning\n",
    "```\n",
    "\n",
    "If you want the package to be available from the command line, execute the command above on the command line\n"
   ]
  },
  {
   "cell_type": "code",
   "execution_count": 2,
   "id": "9dfcb4a8-09a0-4209-82ee-1c1e8ce5d856",
   "metadata": {
    "execution": {
     "iopub.execute_input": "2025-09-09T16:02:45.886817Z",
     "iopub.status.busy": "2025-09-09T16:02:45.886594Z",
     "iopub.status.idle": "2025-09-09T16:02:46.576352Z",
     "shell.execute_reply": "2025-09-09T16:02:46.575727Z",
     "shell.execute_reply.started": "2025-09-09T16:02:45.886800Z"
    }
   },
   "outputs": [
    {
     "name": "stdout",
     "output_type": "stream",
     "text": [
      "astro_metadata_translator g8cbe06beb2+6e13bcb9e9 \tcurrent o_latest v29_2_0 v29_2_0_rc1 setup\n",
      "ctrl_bps_parsl        gc6d400860b+0599d5dd00 \tcurrent o_latest v29_2_0 v29_2_0_rc1 setup\n",
      "sl_commissioning      LOCAL:/home/l/lguy/strong_lensing/sl_commissioning \tsetup\n"
     ]
    }
   ],
   "source": [
    "# You can check to make sure it is setup by uncommenting the following command\n",
    "!eups list | grep sl"
   ]
  },
  {
   "cell_type": "markdown",
   "id": "6c11bbab",
   "metadata": {},
   "source": [
    "## Import required packages\n",
    "The function simply multiples a user-declared value by a user-declared multiplier. <br>\n",
    "This example function also contains unit tests in the \"tests\" directory of the repo"
   ]
  },
  {
   "cell_type": "code",
   "execution_count": 3,
   "id": "5acea5f6",
   "metadata": {
    "execution": {
     "iopub.execute_input": "2025-09-09T16:02:49.683080Z",
     "iopub.status.busy": "2025-09-09T16:02:49.682834Z",
     "iopub.status.idle": "2025-09-09T16:02:49.757816Z",
     "shell.execute_reply": "2025-09-09T16:02:49.757360Z",
     "shell.execute_reply.started": "2025-09-09T16:02:49.683063Z"
    }
   },
   "outputs": [],
   "source": [
    "import logging\n",
    "from lsst.sitcom.sl.example_function import example_function"
   ]
  },
  {
   "cell_type": "code",
   "execution_count": 4,
   "id": "55734eca",
   "metadata": {
    "execution": {
     "iopub.execute_input": "2025-09-09T16:02:52.092733Z",
     "iopub.status.busy": "2025-09-09T16:02:52.092481Z",
     "iopub.status.idle": "2025-09-09T16:02:52.095365Z",
     "shell.execute_reply": "2025-09-09T16:02:52.094950Z",
     "shell.execute_reply.started": "2025-09-09T16:02:52.092715Z"
    }
   },
   "outputs": [],
   "source": [
    "logging.basicConfig()\n",
    "logger = logging.getLogger(__name__)\n",
    "logger.level=logging.DEBUG"
   ]
  },
  {
   "cell_type": "markdown",
   "id": "569cd1c5",
   "metadata": {},
   "source": [
    "## Declare variables "
   ]
  },
  {
   "cell_type": "code",
   "execution_count": 5,
   "id": "8e34584a",
   "metadata": {
    "execution": {
     "iopub.execute_input": "2025-09-09T16:02:56.085331Z",
     "iopub.status.busy": "2025-09-09T16:02:56.085090Z",
     "iopub.status.idle": "2025-09-09T16:02:56.087685Z",
     "shell.execute_reply": "2025-09-09T16:02:56.087292Z",
     "shell.execute_reply.started": "2025-09-09T16:02:56.085314Z"
    }
   },
   "outputs": [],
   "source": [
    "number = 3  # the value that I wish to multiply by a declared multiplier\n",
    "multiplier = 7 # The value of which the above number will be multiplied"
   ]
  },
  {
   "cell_type": "code",
   "execution_count": 6,
   "id": "35232f76",
   "metadata": {
    "execution": {
     "iopub.execute_input": "2025-09-09T16:03:00.071595Z",
     "iopub.status.busy": "2025-09-09T16:03:00.071193Z",
     "iopub.status.idle": "2025-09-09T16:03:00.076972Z",
     "shell.execute_reply": "2025-09-09T16:03:00.076393Z",
     "shell.execute_reply.started": "2025-09-09T16:03:00.071563Z"
    }
   },
   "outputs": [
    {
     "data": {
      "text/html": [
       "<pre style=\"margin: 0.1em;\n",
       "padding-left: 0.25em;\n",
       "border-left-style: solid;\n",
       "font-family: var(--jp-code-font-family);\n",
       "font-size: var(--jp-code-font-size);\n",
       "line-height: var(--jp-code-line-height);\n",
       "\"><span style=\"color: var(--jp-warn-color2)\">__main__</span> <span style=\"color: var(--jp-info-color0)\">INFO</span>: The result is: 21</pre>"
      ],
      "text/plain": [
       "<IPython.core.display.HTML object>"
      ]
     },
     "metadata": {},
     "output_type": "display_data"
    }
   ],
   "source": [
    "result = example_function(number, multiplier=multiplier)\n",
    "logger.info(f'The result is: {result}')"
   ]
  },
  {
   "cell_type": "code",
   "execution_count": null,
   "id": "a3234153-7a1e-47d5-9b68-093a2a7be3a9",
   "metadata": {},
   "outputs": [],
   "source": []
  }
 ],
 "metadata": {
  "kernelspec": {
   "display_name": "LSST",
   "language": "python",
   "name": "lsst"
  },
  "language_info": {
   "codemirror_mode": {
    "name": "ipython",
    "version": 3
   },
   "file_extension": ".py",
   "mimetype": "text/x-python",
   "name": "python",
   "nbconvert_exporter": "python",
   "pygments_lexer": "ipython3",
   "version": "3.12.11"
  }
 },
 "nbformat": 4,
 "nbformat_minor": 5
}
